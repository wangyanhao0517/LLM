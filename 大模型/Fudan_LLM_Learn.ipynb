{
  "cells": [
    {
      "cell_type": "markdown",
      "metadata": {
        "id": "lAeNyYeLa3qH"
      },
      "source": [
        "# 复旦LLM入门文档第二版"
      ]
    },
    {
      "cell_type": "markdown",
      "source": [
        "## 基础知识\n",
        "\n",
        "**认知**\n",
        "1. 语言模型（Language Model，LM）的目标就是对自然语言的概率分布建模\n",
        "2. 大预言模型缩放法则， 参数量、数据量、计算量指数增加的过程，会使得模型性能线性增加\n",
        "3. 基础模型是指仅经过预训练的模型；对话模型是指在预训练模型基\n",
        "础上经过有监督微调和强化学习训练的模型，具备对话和完成任务的能力；推理模型是指专注于\n",
        "逻辑推理增强的大语言模型。\n",
        "4.\n",
        "\n",
        "**统计学**\n",
        "1. 最大似然估计\n",
        "2. N-gram算法\n",
        "3. 数据平滑、零概率问题\n",
        "\n",
        "\n",
        "**神经网络**\n",
        "1. 2000年提出前馈神经网络\n",
        "2. ELMo\n",
        "3. Bert、 GPT\n",
        "4. 2020年发布了GPT3 （Generative Pre-trained Transformer 3）\n",
        "5. PaLM、LaMDA\n",
        "\n",
        "\n",
        "**LLM**\n",
        "1. 根据OpenAI公开的文档，大语言模型训练过程，可以包含四个主要过程\n",
        "  1"
      ],
      "metadata": {
        "id": "LXMm62VzcPoJ"
      }
    },
    {
      "cell_type": "code",
      "execution_count": null,
      "metadata": {
        "id": "wFn1EifkbBkY"
      },
      "outputs": [],
      "source": []
    },
    {
      "cell_type": "code",
      "source": [],
      "metadata": {
        "id": "_NbYff0gcPUU"
      },
      "execution_count": null,
      "outputs": []
    }
  ],
  "metadata": {
    "colab": {
      "provenance": []
    },
    "kernelspec": {
      "display_name": "Python 3",
      "name": "python3"
    },
    "language_info": {
      "name": "python"
    }
  },
  "nbformat": 4,
  "nbformat_minor": 0
}