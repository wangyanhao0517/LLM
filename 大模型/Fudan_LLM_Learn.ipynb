{
  "cells": [
    {
      "cell_type": "markdown",
      "metadata": {
        "id": "lAeNyYeLa3qH"
      },
      "source": [
        "# 复旦LLM入门文档第二版"
      ]
    },
    {
      "cell_type": "code",
      "execution_count": null,
      "metadata": {
        "id": "wFn1EifkbBkY"
      },
      "outputs": [],
      "source": []
    }
  ],
  "metadata": {
    "colab": {
      "provenance": []
    },
    "kernelspec": {
      "display_name": "Python 3",
      "name": "python3"
    },
    "language_info": {
      "name": "python"
    }
  },
  "nbformat": 4,
  "nbformat_minor": 0
}
